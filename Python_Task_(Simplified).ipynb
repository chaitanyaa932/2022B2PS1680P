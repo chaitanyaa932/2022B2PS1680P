{
  "cells": [
    {
      "cell_type": "markdown",
      "metadata": {
        "id": "view-in-github",
        "colab_type": "text"
      },
      "source": [
        "<a href=\"https://colab.research.google.com/github/chaitanyaa932/2022B2PS1680P/blob/main/Python_Task_(Simplified).ipynb\" target=\"_parent\"><img src=\"https://colab.research.google.com/assets/colab-badge.svg\" alt=\"Open In Colab\"/></a>"
      ]
    },
    {
      "cell_type": "markdown",
      "metadata": {
        "id": "nx8u9MLl3-U2"
      },
      "source": [
        "Upload a picture of yourself, convert it to grayscale. Convert the grayscale image to a numpy array. This numpy array corresponds to the marks of students of your class\n",
        "\n",
        "Write a class which takes the numpy array generated above as an input. The class must have the following variables:\n",
        "1. **number_of_students** (int)\n",
        "2. **name_of_teacher** (Your name) (str)\n",
        "3. **data** - stores the input numpy array (1-d numpy array)\n",
        "4. **stats** - A dictionary of statistics that you will be calculating from the input. (dictionary)\n",
        "5. **summary** - (list)\n",
        "\n",
        "The class must have the following functions:\n",
        "1. **__init__** - It normalises the input array and scales it to 100, and stores it in the variable 'data'. It also sets the variable 'name_of_teacher'. The init function calls the functions 'set_num_students' , 'statistics_calculator'. Therefore after __init__all variables other than 'summary' are set.\n",
        "\n",
        "2. **set_num_students** - sets the variable 'number_of_students' \n",
        "\n",
        "3. **statistics_calculator** - calculates the mean, median, maximum, minimum, standard deviation of the marks and stores it in the form of a dictionary in the variable 'stats'\n",
        "\n",
        "4. **organiser** - organises the data in a list in the form [name_of_teacher , number_of_students , stats], stores it in the variable 'summary' and prints it when called.\n",
        "\n"
      ]
    },
    {
      "cell_type": "markdown",
      "source": [
        "The below cell imports PIL for image manipulation and numpy as np.\n",
        "So if you now want to use any function of numpy, say the `numpy.shape()` function, you can now use `np.shape()` instead!"
      ],
      "metadata": {
        "id": "9ZpiJWoZUxPW"
      }
    },
    {
      "cell_type": "code",
      "source": [
        "from PIL import Image, ImageOps\n",
        "import numpy as np"
      ],
      "metadata": {
        "id": "HykVFJn7Pblf"
      },
      "execution_count": 30,
      "outputs": []
    },
    {
      "cell_type": "markdown",
      "source": [
        "The next code block uses a PIL function named Image to open the file, as in import it to colab, and then converts it to grayscale using the ImageOps.grayscale function."
      ],
      "metadata": {
        "id": "e2LqC8WiUwMQ"
      }
    },
    {
      "cell_type": "code",
      "source": [
        "img = Image.open(\"IMGG.jpg\")\n",
        "img_gray = ImageOps.grayscale(img)"
      ],
      "metadata": {
        "id": "TcFoGEMjPwIE"
      },
      "execution_count": 34,
      "outputs": []
    },
    {
      "cell_type": "code",
      "source": [
        "img"
      ],
      "metadata": {
        "id": "f97EqghFVfKc"
      },
      "execution_count": 35,
      "outputs": []
    },
    {
      "cell_type": "code",
      "source": [
        "img_gray"
      ],
      "metadata": {
        "id": "8BpNVBPcVgfz"
      },
      "execution_count": 43,
      "outputs": []
    },
    {
      "cell_type": "markdown",
      "source": [
        "As you can see the above cells show you what img and img_gray look like"
      ],
      "metadata": {
        "id": "ZEJXRtnDWBqY"
      }
    },
    {
      "cell_type": "code",
      "source": [
        "img_as_array = np.asarray(img_gray)"
      ],
      "metadata": {
        "id": "lb8aGqCpP2gp"
      },
      "execution_count": 44,
      "outputs": []
    },
    {
      "cell_type": "markdown",
      "source": [
        "The above cell converts the image to a numpy array. The next cell prints its shape."
      ],
      "metadata": {
        "id": "3tyNtusOWHwL"
      }
    },
    {
      "cell_type": "code",
      "source": [
        "img_as_array.shape"
      ],
      "metadata": {
        "id": "INf_qkj5P4us",
        "colab": {
          "base_uri": "https://localhost:8080/"
        },
        "outputId": "bcb8848f-4a53-4921-d258-2080ac2c03a1"
      },
      "execution_count": 39,
      "outputs": [
        {
          "output_type": "execute_result",
          "data": {
            "text/plain": [
              "(9280, 6944)"
            ]
          },
          "metadata": {},
          "execution_count": 39
        }
      ]
    },
    {
      "cell_type": "code",
      "source": [
        "data = img_as_array.flatten()"
      ],
      "metadata": {
        "id": "FN39u0dQWZKn"
      },
      "execution_count": 40,
      "outputs": []
    },
    {
      "cell_type": "code",
      "source": [
        "data.shape"
      ],
      "metadata": {
        "id": "42-qL8f_XSUP",
        "colab": {
          "base_uri": "https://localhost:8080/"
        },
        "outputId": "21df1f85-7b05-466a-f83f-986b27658853"
      },
      "execution_count": 41,
      "outputs": [
        {
          "output_type": "execute_result",
          "data": {
            "text/plain": [
              "(64440320,)"
            ]
          },
          "metadata": {},
          "execution_count": 41
        }
      ]
    },
    {
      "cell_type": "markdown",
      "source": [
        "Now use `data` for the given tasks!"
      ],
      "metadata": {
        "id": "YiCVGLe_XwSg"
      }
    },
    {
      "cell_type": "code",
      "source": [
        "\n",
        "class Statistic_Data:\n",
        "  \n",
        "  def __init__(self, array):\n",
        "\n",
        "    self.data = array\n",
        "\n",
        "    \n",
        "    min,max = np.min(self.data), np.max(self.data)\n",
        "    n_arr = []\n",
        "    for i in array:\n",
        "       temp = ((i-min)/(max-min))*100\n",
        "       n_arr.append(temp)\n",
        "\n",
        "    self.data=n_arr\n",
        "    \n",
        "    \n",
        "    self.number_of_students = 0\n",
        "    self.name_of_teacher = \"Chaitanya Agarwal\"\n",
        "    self.stats={}\n",
        "    self.summary=[]\n",
        "\n",
        "    self.set_num_students()\n",
        "    self.statistics_calculator()\n",
        "\n",
        "  def set_num_students(self):\n",
        "    self.number_of_students = len(self.data)\n",
        "\n",
        "  def statistics_calculator(self):\n",
        "    self.stats['Mean'] = np.mean(self.data)\n",
        "    self.stats['Median'] = np.median(self.data)\n",
        "    self.stats['Maximum'] = np.max(self.data)\n",
        "    self.stats['Minimum'] = np.min(self.data)\n",
        "    self.stats['Standard deviation'] = np.std(self.data)\n",
        "\n",
        "  def organiser(self):\n",
        "    self.summary = [self.name_of_teacher, self.number_of_students, self.stats]\n",
        "    print(self.summary, sep='\\n')\n",
        "\n",
        "\n",
        "test=Statistic_Data(data)\n",
        "test.organiser()"
      ],
      "metadata": {
        "id": "IOTo-FcQXedf",
        "colab": {
          "base_uri": "https://localhost:8080/"
        },
        "outputId": "6ca642bc-f1eb-4c0d-d2c9-fcbbb341a861"
      },
      "execution_count": 42,
      "outputs": [
        {
          "output_type": "stream",
          "name": "stdout",
          "text": [
            "['Chaitanya Agarwal', 64440320, {'Mean': 53.042336902943134, 'Median': 57.2549045085907, 'Maximum': 100.0, 'Minimum': 0.0, 'Standard deviation': 22.525398165587017}]\n"
          ]
        }
      ]
    }
  ],
  "metadata": {
    "colab": {
      "provenance": [],
      "include_colab_link": true
    },
    "kernelspec": {
      "display_name": "Python 3",
      "name": "python3"
    },
    "language_info": {
      "name": "python"
    }
  },
  "nbformat": 4,
  "nbformat_minor": 0
}